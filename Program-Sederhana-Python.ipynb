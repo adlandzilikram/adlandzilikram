{
 "cells": [
  {
   "cell_type": "markdown",
   "metadata": {},
   "source": [
    "## Bangun Ruang"
   ]
  },
  {
   "cell_type": "markdown",
   "metadata": {},
   "source": [
    "   ###### ==> Balok\n",
    "  "
   ]
  },
  {
   "cell_type": "code",
   "execution_count": 1,
   "metadata": {},
   "outputs": [
    {
     "name": "stdout",
     "output_type": "stream",
     "text": [
      "Panjang : 20\n",
      "Lebar : 10\n",
      "Luas =  200\n"
     ]
    }
   ],
   "source": [
    "panjang = int(input(\"Panjang : \"))\n",
    "lebar = int(input(\"Lebar : \"))\n",
    "\n",
    "print(\"Luas = \" ,panjang * lebar )"
   ]
  },
  {
   "cell_type": "markdown",
   "metadata": {},
   "source": [
    "###### ==> Kubus"
   ]
  },
  {
   "cell_type": "code",
   "execution_count": 2,
   "metadata": {},
   "outputs": [
    {
     "name": "stdout",
     "output_type": "stream",
     "text": [
      "Rusuk  : 7\n",
      "Luas =  294\n",
      "volume =  343\n"
     ]
    }
   ],
   "source": [
    "rusuk = int(input(\"Rusuk  : \"))\n",
    "\n",
    "print(\"Luas = \", 6*(rusuk**2))\n",
    "print(\"volume = \", rusuk*rusuk*rusuk)"
   ]
  },
  {
   "cell_type": "markdown",
   "metadata": {},
   "source": [
    "## Bangun Datar"
   ]
  },
  {
   "cell_type": "markdown",
   "metadata": {},
   "source": [
    "###### Belah Ketupat"
   ]
  },
  {
   "cell_type": "code",
   "execution_count": 5,
   "metadata": {},
   "outputs": [
    {
     "name": "stdout",
     "output_type": "stream",
     "text": [
      "Diameter 1 : 3\n",
      "Diameter 2 : 5\n",
      "Sisi : 4\n",
      "Luas =  7.5\n",
      "Keliling =  16\n"
     ]
    }
   ],
   "source": [
    "d1 = int(input(\"Diameter 1 : \"))\n",
    "d2 = int(input(\"Diameter 2 : \"))\n",
    "sisi = int(input(\"Sisi : \"))\n",
    "\n",
    "luas = (d1*d2)/2\n",
    "keliling = 4 * sisi\n",
    "\n",
    "print(\"Luas = \", luas)\n",
    "print(\"Keliling = \", keliling)"
   ]
  },
  {
   "cell_type": "markdown",
   "metadata": {},
   "source": [
    "###### Dua Bilangan"
   ]
  },
  {
   "cell_type": "code",
   "execution_count": 6,
   "metadata": {},
   "outputs": [
    {
     "name": "stdout",
     "output_type": "stream",
     "text": [
      "Masukkan Angka Pertama : 5\n",
      "Masukkan Angka Kedua : 6\n",
      "jumlah 5+6 adalah 11.0\n"
     ]
    }
   ],
   "source": [
    "bil1 = input(\"Masukkan Angka Pertama : \")\n",
    "bil2 = input(\"Masukkan Angka Kedua : \")\n",
    "\n",
    "jumlah = float(bil1)+float(bil2)\n",
    "\n",
    "print('jumlah {0}+{1} adalah {2}'.format(bil1, bil2, jumlah))"
   ]
  },
  {
   "cell_type": "markdown",
   "metadata": {},
   "source": [
    "###### Jajar Genjang"
   ]
  },
  {
   "cell_type": "code",
   "execution_count": 7,
   "metadata": {},
   "outputs": [
    {
     "name": "stdout",
     "output_type": "stream",
     "text": [
      "Panjang : 5\n",
      "Lebar : 3\n",
      "Tinggi : 8\n",
      "Luas =  24\n",
      "Keliling =  16\n"
     ]
    }
   ],
   "source": [
    "panjang = int(input(\"Panjang : \"))\n",
    "lebar = int(input(\"Lebar : \"))\n",
    "tinggi = int(input(\"Tinggi : \"))\n",
    "\n",
    "luas = lebar*tinggi\n",
    "keliling = (2*panjang) + (2*lebar)\n",
    "\n",
    "print(\"Luas = \", luas)\n",
    "print(\"Keliling = \", keliling)"
   ]
  },
  {
   "cell_type": "markdown",
   "metadata": {},
   "source": [
    "###### Layang - Layang"
   ]
  },
  {
   "cell_type": "code",
   "execution_count": 9,
   "metadata": {},
   "outputs": [
    {
     "name": "stdout",
     "output_type": "stream",
     "text": [
      "Panjang : 5\n",
      "Lebar : 6\n",
      "Diameter 1 : 7\n",
      "Diameter 2 : 5\n",
      "Luar =  17.5\n",
      "Keliling =  22\n"
     ]
    }
   ],
   "source": [
    "panjang = int(input(\"Panjang : \"))\n",
    "lebar = int(input(\"Lebar : \"))\n",
    "d1 = int(input(\"Diameter 1 : \"))\n",
    "d2 = int(input(\"Diameter 2 : \"))\n",
    "\n",
    "luas = (d1*d2)/2\n",
    "keliling = (2*panjang) + (2*lebar)\n",
    "\n",
    "print(\"Luar = \", luas)\n",
    "print(\"Keliling = \", keliling)"
   ]
  },
  {
   "cell_type": "markdown",
   "metadata": {},
   "source": [
    "###### Lingkaran"
   ]
  },
  {
   "cell_type": "code",
   "execution_count": 10,
   "metadata": {},
   "outputs": [
    {
     "name": "stdout",
     "output_type": "stream",
     "text": [
      "Jari-jari : 7\n",
      "Diameter : 3\n",
      "Luas =  483.1204\n",
      "Keliling =  43.96\n"
     ]
    }
   ],
   "source": [
    "jari = int(input(\"Jari-jari : \"))\n",
    "diameter = int(input(\"Diameter : \"))\n",
    "\n",
    "print(\"Luas = \", (3.14*jari)**2)\n",
    "print(\"Keliling = \", 2*3.14*jari)"
   ]
  },
  {
   "cell_type": "markdown",
   "metadata": {},
   "source": [
    "###### Persegi"
   ]
  },
  {
   "cell_type": "code",
   "execution_count": 11,
   "metadata": {},
   "outputs": [
    {
     "name": "stdout",
     "output_type": "stream",
     "text": [
      "Masukkan Sisi : 5\n",
      "Luas Persegi =  25\n",
      "Luas Persegi =  20\n"
     ]
    }
   ],
   "source": [
    "sisi = int(input(\"Masukkan Sisi : \"))\n",
    "\n",
    "luas = sisi*sisi\n",
    "keliling = 4*sisi\n",
    "\n",
    "print(\"Luas Persegi = \", luas)\n",
    "print(\"Luas Persegi = \", keliling)"
   ]
  },
  {
   "cell_type": "markdown",
   "metadata": {},
   "source": [
    "###### Persegi Panjang"
   ]
  },
  {
   "cell_type": "code",
   "execution_count": 12,
   "metadata": {},
   "outputs": [
    {
     "name": "stdout",
     "output_type": "stream",
     "text": [
      "Panjang : 5\n",
      "Lebar : 6\n",
      "Luas :  30\n",
      "Keliling 22\n"
     ]
    }
   ],
   "source": [
    "panjang = int(input(\"Panjang : \"))\n",
    "lebar = int(input(\"Lebar : \"))\n",
    "\n",
    "luas = panjang*lebar\n",
    "keliling = (2*panjang) + (2*lebar)\n",
    "\n",
    "print(\"Luas : \", luas)\n",
    "print(\"Keliling\", keliling)"
   ]
  },
  {
   "cell_type": "markdown",
   "metadata": {},
   "source": [
    "###### Segitiga"
   ]
  },
  {
   "cell_type": "code",
   "execution_count": 13,
   "metadata": {},
   "outputs": [
    {
     "name": "stdout",
     "output_type": "stream",
     "text": [
      "Alas : 5\n",
      "Tinggi : 4\n",
      "Lebar : 7\n",
      "Luas Segitiga Adalah :  10.0\n",
      "Keliling Segitiga Adalah :  16\n"
     ]
    }
   ],
   "source": [
    "alas = int(input(\"Alas : \"))\n",
    "tinggi = int(input(\"Tinggi : \"))\n",
    "lebar = int(input(\"Lebar : \"))\n",
    "\n",
    "keliling = alas+tinggi+lebar\n",
    "luas = (alas*tinggi)/2\n",
    "\n",
    "print(\"Luas Segitiga Adalah : \", luas)\n",
    "print(\"Keliling Segitiga Adalah : \", keliling)"
   ]
  },
  {
   "cell_type": "markdown",
   "metadata": {},
   "source": [
    "###### Trapesium"
   ]
  },
  {
   "cell_type": "code",
   "execution_count": 14,
   "metadata": {},
   "outputs": [
    {
     "name": "stdout",
     "output_type": "stream",
     "text": [
      "Sisi 1 : 5\n",
      "Sisi 2 : 6\n",
      "Sisi 3 : 7\n",
      "Tinggi : 9\n",
      "Luas =  49.5\n",
      "Keliling = 27\n"
     ]
    }
   ],
   "source": [
    "sisi1 = int(input(\"Sisi 1 : \"))\n",
    "sisi2 = int(input(\"Sisi 2 : \"))\n",
    "sisi3 = int(input(\"Sisi 3 : \"))\n",
    "tinggi = int(input(\"Tinggi : \"))\n",
    "\n",
    "luas = (sisi1+sisi2) * tinggi / 2\n",
    "keliling = sisi1+sisi2+sisi3+tinggi\n",
    "\n",
    "print(\"Luas = \", luas)\n",
    "print(\"Keliling =\", keliling)"
   ]
  },
  {
   "cell_type": "markdown",
   "metadata": {},
   "source": [
    "#  Code Fundamental Python"
   ]
  },
  {
   "cell_type": "markdown",
   "metadata": {},
   "source": [
    "###### El And If"
   ]
  },
  {
   "cell_type": "code",
   "execution_count": 4,
   "metadata": {},
   "outputs": [
    {
     "name": "stdout",
     "output_type": "stream",
     "text": [
      "--selain itu jika--\n",
      "--contoh 1, negatif, nol dan bulat menggunakan elif--\n",
      "Nol\n",
      "--contoh 2, K, BK, Pas--\n",
      "Pas\n",
      "--contoh 3, Nilai A, B, C--\n",
      "A\n",
      "--contoh 3, Nilai A, B, C--\n",
      "D\n"
     ]
    }
   ],
   "source": [
    "print(\"--selain itu jika--\")\n",
    "\n",
    "\n",
    "\n",
    "print(\"--contoh 1, negatif, nol dan bulat menggunakan elif--\")\n",
    "\n",
    "d = 0\n",
    "\n",
    "if d<0:\n",
    "\n",
    "    print(\"Negatif\")\n",
    "\n",
    "elif d >0:\n",
    "\n",
    "    print(\"Positif\")\n",
    "\n",
    "else:\n",
    "\n",
    "    print(\"Nol\")\n",
    "\n",
    "\n",
    "print(\"--contoh 2, K, BK, Pas--\")\n",
    "\n",
    "nilai = 75\n",
    "\n",
    "if nilai > 75:\n",
    "\n",
    "    print(\"Kompeten\")\n",
    "\n",
    "elif nilai < 75:\n",
    "\n",
    "    print(\"Belum Kompeten\")\n",
    "\n",
    "else:\n",
    "\n",
    "    print(\"Pas\")\n",
    "\n",
    "print(\"--contoh 3, Nilai A, B, C--\")\n",
    "\n",
    "n = 1000\n",
    "\n",
    "if n >= 80: #80-100\n",
    "\n",
    "    print(\"A\")\n",
    "\n",
    "elif n >=75: #75-79\n",
    "\n",
    "    print(\"B\")\n",
    "\n",
    "elif n >=70: #70-74\n",
    "\n",
    "    print(\"C\")\n",
    "\n",
    "else: #<=69\n",
    "\n",
    "    print(\"D\")\n",
    "\n",
    "print(\"--contoh 3, Nilai A, B, C--\")\n",
    "\n",
    "nil = 69\n",
    "\n",
    "if nil >= 80: #80-100\n",
    "\n",
    "    print(\"A\")\n",
    "\n",
    "elif nil >=75: #75-79\n",
    "\n",
    "    print(\"B\")\n",
    "\n",
    "elif nil >=70: #70-74\n",
    "\n",
    "    print(\"C\")\n",
    "\n",
    "elif nil <=69:\n",
    "\n",
    "    print(\"D\")\n",
    "\n",
    "\n",
    "\n",
    "\n",
    "\n",
    "\n",
    "\n",
    "    "
   ]
  },
  {
   "cell_type": "markdown",
   "metadata": {},
   "source": [
    "###### If"
   ]
  },
  {
   "cell_type": "code",
   "execution_count": 16,
   "metadata": {},
   "outputs": [
    {
     "name": "stdout",
     "output_type": "stream",
     "text": [
      "--if berarti jika maka--\n",
      "Kamu Kompeten\n",
      "---Penggunaan IF----\n",
      "Tidak Sama\n"
     ]
    }
   ],
   "source": [
    "   \n",
    "\n",
    "print(\"--if berarti jika maka--\")\n",
    "\n",
    "\n",
    "\n",
    "a = 76\n",
    "\n",
    "if a >= 75:\n",
    "\n",
    "    print(\"Kamu Kompeten\")\n",
    "\n",
    "else:\n",
    "\n",
    "    print(\"Kamu Belum Kompeten\")\n",
    "\n",
    "\n",
    "\n",
    "\n",
    "\n",
    "print(\"---Penggunaan IF----\")\n",
    "\n",
    "n = 10\n",
    "\n",
    "if n == 1:\n",
    "\n",
    "    print(\"Nilai Sama\")\n",
    "\n",
    "else:\n",
    "\n",
    "    print(\"Tidak Sama\")"
   ]
  },
  {
   "cell_type": "markdown",
   "metadata": {},
   "source": [
    "###### If And Else"
   ]
  },
  {
   "cell_type": "code",
   "execution_count": 18,
   "metadata": {},
   "outputs": [
    {
     "name": "stdout",
     "output_type": "stream",
     "text": [
      "--selain itu/lawan dari if--\n",
      "--contoh 1, kompeten dan belum kompeten--\n",
      "Kamu Belum Kompeten\n",
      "--contoh 2, benar salah--\n",
      "Salah\n",
      "--contoh 3, ganjil genap--\n",
      "Ganjil\n",
      "--contoh 4, negatif, nol dan bulat--\n",
      "Negatif\n",
      "Negatif\n",
      "--contoh 5, Libur dan Masuk--\n",
      "Libur\n"
     ]
    }
   ],
   "source": [
    "print(\"--selain itu/lawan dari if--\")\n",
    "\n",
    "\n",
    "\n",
    "print(\"--contoh 1, kompeten dan belum kompeten--\")\n",
    "\n",
    "a = 72\n",
    "\n",
    "if a>=75:\n",
    "\n",
    "    print(\"Kamu Kompeten\")\n",
    "\n",
    "else:\n",
    "\n",
    "    print(\"Kamu Belum Kompeten\")\n",
    "\n",
    "\n",
    "\n",
    "print(\"--contoh 2, benar salah--\")\n",
    "\n",
    "b=0\n",
    "\n",
    "if b==1:\n",
    "\n",
    "    print(\"Benar\")\n",
    "\n",
    "if b==0:\n",
    "\n",
    "    print(\"Salah\")\n",
    "\n",
    "\n",
    "\n",
    "\n",
    "\n",
    "\n",
    "\n",
    "\n",
    "\n",
    "\n",
    "\n",
    "print(\"--contoh 3, ganjil genap--\")\n",
    "\n",
    "c = 1\n",
    "\n",
    "if c%2 == 0:\n",
    "\n",
    "    print(\"Genap\")\n",
    "\n",
    "else:\n",
    "\n",
    "    print(\"Ganjil\")\n",
    "\n",
    "\n",
    "\n",
    "\n",
    "\n",
    "\n",
    "\n",
    "\n",
    "\n",
    "\n",
    "\n",
    "\n",
    "\n",
    "\n",
    "\n",
    "print(\"--contoh 4, negatif, nol dan bulat--\")\n",
    "\n",
    "e = -3\n",
    "\n",
    "if e<0:\n",
    "\n",
    "    print(\"Negatif\")\n",
    "\n",
    "else:\n",
    "\n",
    "    print(\"Positif\")\n",
    "\n",
    "\n",
    "\n",
    "d = -100\n",
    "\n",
    "if d<0:\n",
    "\n",
    "    print(\"Negatif\")\n",
    "\n",
    "if d==0:\n",
    "\n",
    "    print(\"Nol\")\n",
    "\n",
    "if d>0:\n",
    "\n",
    "    print(\"Positif\")\n",
    "\n",
    "\n",
    "\n",
    "print(\"--contoh 5, Libur dan Masuk--\")\n",
    "\n",
    "hari = \"merah\"\n",
    "\n",
    "if hari == \"merah\":\n",
    "\n",
    "    print(\"Libur\")\n",
    "\n",
    "else:\n",
    "\n",
    "    print(\"Masuk\")"
   ]
  },
  {
   "cell_type": "markdown",
   "metadata": {},
   "source": [
    "###### Komentar"
   ]
  },
  {
   "cell_type": "code",
   "execution_count": 20,
   "metadata": {},
   "outputs": [
    {
     "name": "stdout",
     "output_type": "stream",
     "text": [
      "Selamat Datang\n",
      "Python\n"
     ]
    }
   ],
   "source": [
    "#cetak pada python\n",
    "\n",
    "print(\"Selamat Datang\") #cetak selamat datang\n",
    "\n",
    "#tanda tagar menandakan penggunaan komentar pada python\n",
    "\n",
    "#kita bisa membedakan penggunaan komentar pada setiap bahasa pemograman\n",
    "\n",
    "\n",
    "\n",
    "\"\"\"komentar jg\"\"\"\n",
    "\n",
    "\n",
    "\n",
    "\"\"\"kutip 3 juga sebagai komentar\"\"\"\n",
    "\n",
    "\n",
    "\n",
    "print(\"Python\")"
   ]
  },
  {
   "cell_type": "markdown",
   "metadata": {},
   "source": [
    "###### Looping"
   ]
  },
  {
   "cell_type": "code",
   "execution_count": 21,
   "metadata": {},
   "outputs": [
    {
     "name": "stdout",
     "output_type": "stream",
     "text": [
      "----For----\n",
      "1\n",
      "2\n",
      "3\n",
      "----While----\n",
      "1\n",
      "2\n",
      "3\n",
      "4\n",
      "5\n",
      "6\n",
      "7\n",
      "8\n",
      "9\n"
     ]
    }
   ],
   "source": [
    "print(\"----For----\")\n",
    "\n",
    "for a in [1,2,3]:\n",
    "\n",
    "    print(a)\n",
    "\n",
    "\n",
    "\n",
    "print(\"----While----\")\n",
    "\n",
    "b = 1\n",
    "\n",
    "while b < 10:\n",
    "\n",
    "    print(b)\n",
    "\n",
    "    b+=1\n",
    "\n"
   ]
  },
  {
   "cell_type": "markdown",
   "metadata": {},
   "source": [
    "###### Nilai"
   ]
  },
  {
   "cell_type": "code",
   "execution_count": 22,
   "metadata": {},
   "outputs": [
    {
     "name": "stdout",
     "output_type": "stream",
     "text": [
      "--contoh 3, Nilai A, B, C--\n",
      "D\n"
     ]
    }
   ],
   "source": [
    "print(\"--contoh 3, Nilai A, B, C--\")\n",
    "\n",
    "n = 55\n",
    "\n",
    "if n >= 80: #80-100\n",
    "\n",
    "    print(\"A\")\n",
    "\n",
    "elif n >=75: #75-79\n",
    "\n",
    "    print(\"B\")\n",
    "\n",
    "elif n >=70: #70-74\n",
    "\n",
    "    print(\"C\")\n",
    "\n",
    "else: #<=69\n",
    "\n",
    "    print(\"D\")"
   ]
  },
  {
   "cell_type": "markdown",
   "metadata": {},
   "source": [
    "###### Nilai 2"
   ]
  },
  {
   "cell_type": "code",
   "execution_count": 24,
   "metadata": {},
   "outputs": [
    {
     "name": "stdout",
     "output_type": "stream",
     "text": [
      "Masukkan Nilai : 99\n",
      "A\n"
     ]
    }
   ],
   "source": [
    "nil = int(input(\"Masukkan Nilai : \"))\n",
    "\n",
    "if nil >= 80:\n",
    "\n",
    "    print(\"A\")\n",
    "\n",
    "else:\n",
    "\n",
    "    print(\"B\")"
   ]
  },
  {
   "cell_type": "markdown",
   "metadata": {},
   "source": [
    "###### Operator"
   ]
  },
  {
   "cell_type": "code",
   "execution_count": 25,
   "metadata": {},
   "outputs": [
    {
     "name": "stdout",
     "output_type": "stream",
     "text": [
      "--Operator Matematika--\n",
      "Tambah (+) 12\n",
      "Kali (*) 24\n",
      "Bagi (/) 1.6\n",
      "Kurang (-) 13\n",
      "Pangkat (+) 4\n",
      "Mod (%) 0\n",
      "--Operator Pembanding--\n",
      "Sama Dengan (==)\n",
      "Lebih Besar (>)\n",
      "Lebih Kecil (<)\n",
      "Lebih Besar Sama Dengan (>=)\n",
      "Lebih Kecil Sama Dengan(<=)\n",
      "Tidak Sama Dengan(!=)\n",
      "--Operator Logika--\n",
      "Not (not=Bukan)\n",
      "And (and=Semua Kondisi Terpenuhi)\n",
      "Or (or=Salah Satu Kondisi Terpenuhi)\n"
     ]
    }
   ],
   "source": [
    "print(\"--Operator Matematika--\")\n",
    "\n",
    "print(\"Tambah (+)\", 10+2)\n",
    "\n",
    "print(\"Kali (*)\", 12*2)\n",
    "\n",
    "print(\"Bagi (/)\", 8/5)\n",
    "\n",
    "print(\"Kurang (-)\", 14-1)\n",
    "\n",
    "print(\"Pangkat (+)\", 2**2)\n",
    "\n",
    "print(\"Mod (%)\", 6%2)\n",
    "\n",
    "\n",
    "\n",
    "print(\"--Operator Pembanding--\")\n",
    "\n",
    "print(\"Sama Dengan (==)\")\n",
    "\n",
    "print(\"Lebih Besar (>)\")\n",
    "\n",
    "print(\"Lebih Kecil (<)\")\n",
    "\n",
    "print(\"Lebih Besar Sama Dengan (>=)\")\n",
    "\n",
    "print(\"Lebih Kecil Sama Dengan(<=)\")\n",
    "\n",
    "print(\"Tidak Sama Dengan(!=)\")\n",
    "\n",
    "\n",
    "\n",
    "print(\"--Operator Logika--\")\n",
    "\n",
    "print(\"Not (not=Bukan)\")\n",
    "\n",
    "print(\"And (and=Semua Kondisi Terpenuhi)\")\n",
    "\n",
    "print(\"Or (or=Salah Satu Kondisi Terpenuhi)\")"
   ]
  },
  {
   "cell_type": "markdown",
   "metadata": {},
   "source": [
    "###### Print"
   ]
  },
  {
   "cell_type": "code",
   "execution_count": 26,
   "metadata": {},
   "outputs": [
    {
     "name": "stdout",
     "output_type": "stream",
     "text": [
      "Selamat Datang\n",
      "Belajar Bahasa Pemrograman Python\n",
      "hello !\n"
     ]
    }
   ],
   "source": [
    "print (\"Selamat Datang\")\n",
    "\n",
    "print (\"Belajar Bahasa Pemrograman Python\")\n",
    "\n",
    "\n",
    "\n",
    "print (\"hello !\")"
   ]
  },
  {
   "cell_type": "markdown",
   "metadata": {},
   "source": [
    "###### Print 2"
   ]
  },
  {
   "cell_type": "code",
   "execution_count": 27,
   "metadata": {},
   "outputs": [
    {
     "name": "stdout",
     "output_type": "stream",
     "text": [
      "Selamat Datang\n",
      "Selamat Datang\n",
      "Selamat Datang\n",
      "Selamat Datang\n",
      "Selamat Datang\n",
      "Selamat Datang\n",
      "Selamat Datang\n",
      "Selamat Datang\n"
     ]
    }
   ],
   "source": [
    "print('Selamat Datang')\n",
    "\n",
    "print(\"Selamat Datang\")\n",
    "\n",
    "print('Selamat Datang')\n",
    "\n",
    "print(\"Selamat Datang\")\n",
    "\n",
    "print('Selamat Datang')\n",
    "\n",
    "print(\"Selamat Datang\")\n",
    "\n",
    "print('Selamat Datang')\n",
    "\n",
    "print(\"Selamat Datang\")"
   ]
  },
  {
   "cell_type": "markdown",
   "metadata": {},
   "source": [
    "###### Tipe Data"
   ]
  },
  {
   "cell_type": "code",
   "execution_count": 28,
   "metadata": {},
   "outputs": [
    {
     "name": "stdout",
     "output_type": "stream",
     "text": [
      "Selamat Datang di SMK Wikrama 2 Bogor\n",
      "Hasil dari 1 + 2 = 3\n",
      "Selamat Datang di SMK Wikrama 2\n",
      "7\n",
      "7.0\n",
      "14.0\n",
      "-----------operator----------\n",
      "12\n",
      "24\n",
      "1.6\n",
      "13\n",
      "4\n",
      "1\n",
      "-----------operator menggunakan variabel----------\n",
      "11\n",
      "30\n",
      "1\n",
      "0.8333333333333334\n",
      "-----------pengelompokan operasi----------\n",
      "10\n",
      "16\n",
      "10.0\n",
      "----pembulatan----\n",
      "14\n",
      "18\n",
      "---------tipe data string---------\n",
      "SMK Wikrama Bogor\n",
      "SMK Wikrama Bogor\n",
      "doesn't\n",
      "doesn't\n",
      "i cant wait\n",
      "i can't wait\n",
      "i can't wait\n",
      "SMK Wikrama Bogor\n",
      "\n",
      "Jl. Raya Wangun Kel. Sindangsari\n",
      "\n",
      "Kec. Bogor Timur Kota Bogor\n",
      "---menggabungkan string menggunakan (+)---\n",
      "SMKWikramaBogor\n",
      "SMK Wikrama Bogor\n",
      "SMK Wikrama Bogor\n",
      "---menggabungkan angka menggunakan (+)---\n",
      "6\n",
      "123\n",
      "1+2+3\n",
      "1+2+3=6\n",
      "---Array/List/Larik---\n",
      "1\n",
      "2\n",
      "3\n",
      "4\n",
      "5\n",
      "1 2 3 4 5\n",
      "Wikrama 1 Bogor\n",
      "--menghitung jumlah elemen pada array--\n",
      "jumlah elemen pada array adalah 3\n"
     ]
    }
   ],
   "source": [
    "#BELAJAR PYTHON\n",
    "\n",
    "\"\"\"BELAJAR PYTHON\"\"\"\n",
    "\n",
    "\n",
    "\n",
    "\n",
    "\n",
    "\n",
    "\n",
    "a = 1\n",
    "\n",
    "b = 2\n",
    "\n",
    "c = 'Selamat Datang di'\n",
    "\n",
    "d = \"SMK Wikrama\"\n",
    "\n",
    "e = \"Bogor\"\n",
    "\n",
    "\n",
    "\n",
    "#Selamat Datang di SMK Wikrama 2 Bogor\n",
    "\n",
    "print(c, d, b, e)\n",
    "\n",
    "#Hasil dari 1+2=3\n",
    "\n",
    "\n",
    "\n",
    "print(\"Hasil dari\", a, \"+\",  b, \"=\", a+b)\n",
    "\n",
    "\n",
    "\n",
    "\n",
    "\n",
    "\n",
    "\n",
    "\n",
    "\n",
    "\n",
    "\n",
    "\n",
    "\n",
    "\n",
    "\n",
    "\n",
    "\n",
    "\n",
    "\n",
    "\n",
    "\n",
    "\n",
    "\n",
    "\n",
    "\n",
    "\n",
    "\n",
    "\n",
    "\n",
    "\n",
    "\n",
    "print(c, d, a*b)\n",
    "\n",
    "\n",
    "\n",
    "\n",
    "\n",
    "\n",
    "\n",
    "\n",
    "\n",
    "\n",
    "\n",
    "\n",
    "\n",
    "#tipe data bilangan (bulat/integer dan float)\n",
    "\n",
    "#bulat/integer\n",
    "\n",
    "x = 7\n",
    "\n",
    "print(x)\n",
    "\n",
    "\n",
    "\n",
    "y = 7.0\n",
    "\n",
    "print(y)\n",
    "\n",
    "print(x+y)\n",
    "\n",
    "\n",
    "\n",
    "\n",
    "\n",
    "#operator\n",
    "\n",
    "print(\"-----------operator----------\")\n",
    "\n",
    "print(10+2)\n",
    "\n",
    "print(12*2)\n",
    "\n",
    "print(8/5)\n",
    "\n",
    "print(14-1)\n",
    "\n",
    "print(2**2)\n",
    "\n",
    "print(5%2)\n",
    "\n",
    "\n",
    "\n",
    "print(\"-----------operator menggunakan variabel----------\")\n",
    "\n",
    "a1 = 5\n",
    "\n",
    "a2 = 6\n",
    "\n",
    "print(a1+a2)\n",
    "\n",
    "print(a1*a2)\n",
    "\n",
    "print(a2-a1)\n",
    "\n",
    "print(a1/a2)\n",
    "\n",
    "\n",
    "\n",
    "\n",
    "\n",
    "\n",
    "\n",
    "\n",
    "\n",
    "print(\"-----------pengelompokan operasi----------\")\n",
    "\n",
    "print(2+2*4) #operasi perkalian akan di lakukan terlebih dahulu 10\n",
    "\n",
    "print((2+2)*4) #tanda kurung menandakan operasi yang didahulukan\n",
    "\n",
    "print((4/2)*5)\n",
    "\n",
    "\n",
    "\n",
    "\n",
    "\n",
    "\n",
    "\n",
    "\n",
    "\n",
    "\n",
    "\n",
    "\n",
    "\n",
    "print(\"----pembulatan----\")\n",
    "\n",
    "b1 = 14.8\n",
    "\n",
    "b2 = 18.4\n",
    "\n",
    "print(int (b1))  #int pembulatan ke bawah\n",
    "\n",
    "print(round(b2)) #round pembulatan ke atas jika > 5, ke bawah jika <= 5\n",
    "\n",
    "\n",
    "\n",
    "\n",
    "\n",
    "\n",
    "\n",
    "\n",
    "\n",
    "\n",
    "\n",
    "print(\"---------tipe data string---------\")\n",
    "\n",
    "print('SMK Wikrama Bogor') #string menggunakan kutip 1 atau kutip 2\n",
    "\n",
    "print(\"SMK Wikrama Bogor\")\n",
    "\n",
    "\n",
    "\n",
    "\n",
    "\n",
    "\n",
    "\n",
    "\n",
    "\n",
    "\n",
    "\n",
    "\n",
    "\n",
    "\n",
    "\n",
    "print(\"doesn't\")\n",
    "\n",
    "print('doesn\\'t')\n",
    "\n",
    "print('i cant wait')\n",
    "\n",
    "print('i can\\'t wait')\n",
    "\n",
    "print(\"i can't wait\")\n",
    "\n",
    "\n",
    "\n",
    "\n",
    "\n",
    "\n",
    "\n",
    "\n",
    "\n",
    "\n",
    "\n",
    "\n",
    "\n",
    "\n",
    "\n",
    "\n",
    "\n",
    "print(\"\"\"SMK Wikrama Bogor\n",
    "\n",
    "Jl. Raya Wangun Kel. Sindangsari\n",
    "\n",
    "Kec. Bogor Timur Kota Bogor\"\"\")   #kutip 3 bisa digunakan untuk string untuk kondisi beberapa baris\n",
    "\n",
    "\n",
    "\n",
    "#print(\"SMK Wikrama Bogor\n",
    "\n",
    "#Jl. Raya Wangun Kel. Sindangsari\n",
    "\n",
    "#Kec. Bogor Timur Kota Bogor\")\n",
    "\n",
    "\n",
    "\n",
    "\n",
    "\n",
    "\n",
    "\n",
    "print(\"---menggabungkan string menggunakan (+)---\")\n",
    "\n",
    "c1 = \"SMK\"\n",
    "\n",
    "c2 = \"Wikrama\"\n",
    "\n",
    "c3 = \"Bogor\"\n",
    "\n",
    "c4 = c1+c2+c3\n",
    "\n",
    "c5 = c1+' '+c2+' '+c3\n",
    "\n",
    "print(c4)\n",
    "\n",
    "print(c5)\n",
    "\n",
    "print(c1+' '+c2+' '+c3)\n",
    "\n",
    "\n",
    "\n",
    "\n",
    "\n",
    "\n",
    "\n",
    "\n",
    "\n",
    "\n",
    "\n",
    "\n",
    "\n",
    "\n",
    "\n",
    "print(\"---menggabungkan angka menggunakan (+)---\")\n",
    "\n",
    "d1 = 1\n",
    "\n",
    "d2 = 2\n",
    "\n",
    "d3 = 3\n",
    "\n",
    "d4 = d1+d2+d3\n",
    "\n",
    "\n",
    "\n",
    "print(d4)\n",
    "\n",
    "print(str(d1)+str(d2)+str(d3))\n",
    "\n",
    "print(str(d1)+'+'+str(d2)+'+'+str(d3))\n",
    "\n",
    "print(str(d1)+'+'+str(d2)+'+'+str(d3)+'='+str(d4))\n",
    "\n",
    "\n",
    "\n",
    "print(\"---Array/List/Larik---\")\n",
    "\n",
    "a = [1,2,3,4,5]\n",
    "\n",
    "print(a[0])\n",
    "\n",
    "print(a[1])\n",
    "\n",
    "print(a[2])\n",
    "\n",
    "print(a[3])\n",
    "\n",
    "print(a[4])\n",
    "\n",
    "print(a[0],a[1],a[2],a[3],a[4])\n",
    "\n",
    "\n",
    "\n",
    "e1 = ['Wikrama', 1, 'Bogor']\n",
    "\n",
    "print(e1[0], e1[1], e1[2])\n",
    "\n",
    "\n",
    "\n",
    "print(\"--menghitung jumlah elemen pada array--\")\n",
    "\n",
    "print(\"jumlah elemen pada array adalah\", len(e1))\n",
    "\n"
   ]
  },
  {
   "cell_type": "markdown",
   "metadata": {},
   "source": [
    "###### Variabel"
   ]
  },
  {
   "cell_type": "code",
   "execution_count": 29,
   "metadata": {},
   "outputs": [
    {
     "name": "stdout",
     "output_type": "stream",
     "text": [
      "9\n",
      "14\n",
      "5\n",
      "3.5\n",
      "1\n",
      "49\n"
     ]
    }
   ],
   "source": [
    "#OPERATOR ARITMATIKA\n",
    "\n",
    "a = 7\n",
    "\n",
    "b = 2\n",
    "\n",
    "print(a+b) #hasilnya 9\n",
    "\n",
    "print(a*b) #hasilnya 14\n",
    "\n",
    "print(a-b) #hasilnya 5\n",
    "\n",
    "print(a/b) #hasilnya 3.5\n",
    "\n",
    "print(a%b) #hasilnya 1\n",
    "\n",
    "print(a**b) #hasilnya 49\n",
    "\n",
    "\n",
    "#a = 1\n",
    "\n",
    "#b = \"saya\"\n",
    "\n",
    "#c = \"juara\"\n",
    "\n",
    "#print(b, c, a)\n",
    "\n",
    "\n",
    "\n",
    "#d = \"saya\"\n",
    "\n",
    "#e = \"mendapat\"\n",
    "\n",
    "#f = \"nilai\"\n",
    "\n",
    "#g = 50\n",
    "\n",
    "#h = \"0,5\"\n",
    "\n",
    "\n",
    "\n",
    "#print(d, e, f, h)\n",
    "\n",
    "\n",
    "\n"
   ]
  },
  {
   "cell_type": "code",
   "execution_count": null,
   "metadata": {},
   "outputs": [],
   "source": []
  }
 ],
 "metadata": {
  "kernelspec": {
   "display_name": "Python 3",
   "language": "python",
   "name": "python3"
  },
  "language_info": {
   "codemirror_mode": {
    "name": "ipython",
    "version": 3
   },
   "file_extension": ".py",
   "mimetype": "text/x-python",
   "name": "python",
   "nbconvert_exporter": "python",
   "pygments_lexer": "ipython3",
   "version": "3.7.1"
  }
 },
 "nbformat": 4,
 "nbformat_minor": 2
}
